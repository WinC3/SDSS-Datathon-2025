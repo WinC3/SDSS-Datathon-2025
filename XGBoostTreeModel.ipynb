{
  "nbformat": 4,
  "nbformat_minor": 0,
  "metadata": {
    "colab": {
      "provenance": [],
      "include_colab_link": true
    },
    "kernelspec": {
      "name": "python3",
      "display_name": "Python 3"
    },
    "language_info": {
      "name": "python"
    }
  },
  "cells": [
    {
      "cell_type": "markdown",
      "metadata": {
        "id": "view-in-github",
        "colab_type": "text"
      },
      "source": [
        "<a href=\"https://colab.research.google.com/github/WinC3/SDSS-Datathon-2025/blob/main/XGBoostTreeModel.ipynb\" target=\"_parent\"><img src=\"https://colab.research.google.com/assets/colab-badge.svg\" alt=\"Open In Colab\"/></a>"
      ]
    },
    {
      "cell_type": "code",
      "execution_count": 20,
      "metadata": {
        "colab": {
          "base_uri": "https://localhost:8080/"
        },
        "id": "mcOP3rzYmoxh",
        "outputId": "a0fc6057-65b4-4e08-fe33-27c66983b694"
      },
      "outputs": [
        {
          "output_type": "stream",
          "name": "stdout",
          "text": [
            "Requirement already satisfied: scikit-learn in /usr/local/lib/python3.11/dist-packages (1.6.1)\n",
            "Requirement already satisfied: pandas in /usr/local/lib/python3.11/dist-packages (2.2.2)\n",
            "Requirement already satisfied: numpy in /usr/local/lib/python3.11/dist-packages (1.26.4)\n",
            "Requirement already satisfied: graphviz in /usr/local/lib/python3.11/dist-packages (0.20.3)\n",
            "Requirement already satisfied: scipy>=1.6.0 in /usr/local/lib/python3.11/dist-packages (from scikit-learn) (1.13.1)\n",
            "Requirement already satisfied: joblib>=1.2.0 in /usr/local/lib/python3.11/dist-packages (from scikit-learn) (1.4.2)\n",
            "Requirement already satisfied: threadpoolctl>=3.1.0 in /usr/local/lib/python3.11/dist-packages (from scikit-learn) (3.5.0)\n",
            "Requirement already satisfied: python-dateutil>=2.8.2 in /usr/local/lib/python3.11/dist-packages (from pandas) (2.8.2)\n",
            "Requirement already satisfied: pytz>=2020.1 in /usr/local/lib/python3.11/dist-packages (from pandas) (2025.1)\n",
            "Requirement already satisfied: tzdata>=2022.7 in /usr/local/lib/python3.11/dist-packages (from pandas) (2025.1)\n",
            "Requirement already satisfied: six>=1.5 in /usr/local/lib/python3.11/dist-packages (from python-dateutil>=2.8.2->pandas) (1.17.0)\n"
          ]
        }
      ],
      "source": [
        "!pip install scikit-learn pandas numpy graphviz"
      ]
    },
    {
      "cell_type": "code",
      "source": [
        "import pandas as pd\n",
        "import numpy as np\n",
        "import xgboost as xgb\n",
        "from sklearn.model_selection import train_test_split\n",
        "from sklearn.preprocessing import StandardScaler, LabelEncoder\n",
        "from sklearn.metrics import mean_absolute_error\n",
        "from sklearn.impute import SimpleImputer\n",
        "from geopy.distance import geodesic"
      ],
      "metadata": {
        "id": "2PLdeGNFms2-"
      },
      "execution_count": 22,
      "outputs": []
    },
    {
      "cell_type": "code",
      "source": [
        "from google.colab import files\n",
        "uploaded = files.upload()"
      ],
      "metadata": {
        "colab": {
          "base_uri": "https://localhost:8080/",
          "height": 73
        },
        "id": "gDrXkTAw0V_z",
        "outputId": "b942efa8-6cc3-4f13-a87e-b97b82845c18"
      },
      "execution_count": 4,
      "outputs": [
        {
          "output_type": "display_data",
          "data": {
            "text/plain": [
              "<IPython.core.display.HTML object>"
            ],
            "text/html": [
              "\n",
              "     <input type=\"file\" id=\"files-e5dad218-4118-4371-a2ec-2c3bdb063b85\" name=\"files[]\" multiple disabled\n",
              "        style=\"border:none\" />\n",
              "     <output id=\"result-e5dad218-4118-4371-a2ec-2c3bdb063b85\">\n",
              "      Upload widget is only available when the cell has been executed in the\n",
              "      current browser session. Please rerun this cell to enable.\n",
              "      </output>\n",
              "      <script>// Copyright 2017 Google LLC\n",
              "//\n",
              "// Licensed under the Apache License, Version 2.0 (the \"License\");\n",
              "// you may not use this file except in compliance with the License.\n",
              "// You may obtain a copy of the License at\n",
              "//\n",
              "//      http://www.apache.org/licenses/LICENSE-2.0\n",
              "//\n",
              "// Unless required by applicable law or agreed to in writing, software\n",
              "// distributed under the License is distributed on an \"AS IS\" BASIS,\n",
              "// WITHOUT WARRANTIES OR CONDITIONS OF ANY KIND, either express or implied.\n",
              "// See the License for the specific language governing permissions and\n",
              "// limitations under the License.\n",
              "\n",
              "/**\n",
              " * @fileoverview Helpers for google.colab Python module.\n",
              " */\n",
              "(function(scope) {\n",
              "function span(text, styleAttributes = {}) {\n",
              "  const element = document.createElement('span');\n",
              "  element.textContent = text;\n",
              "  for (const key of Object.keys(styleAttributes)) {\n",
              "    element.style[key] = styleAttributes[key];\n",
              "  }\n",
              "  return element;\n",
              "}\n",
              "\n",
              "// Max number of bytes which will be uploaded at a time.\n",
              "const MAX_PAYLOAD_SIZE = 100 * 1024;\n",
              "\n",
              "function _uploadFiles(inputId, outputId) {\n",
              "  const steps = uploadFilesStep(inputId, outputId);\n",
              "  const outputElement = document.getElementById(outputId);\n",
              "  // Cache steps on the outputElement to make it available for the next call\n",
              "  // to uploadFilesContinue from Python.\n",
              "  outputElement.steps = steps;\n",
              "\n",
              "  return _uploadFilesContinue(outputId);\n",
              "}\n",
              "\n",
              "// This is roughly an async generator (not supported in the browser yet),\n",
              "// where there are multiple asynchronous steps and the Python side is going\n",
              "// to poll for completion of each step.\n",
              "// This uses a Promise to block the python side on completion of each step,\n",
              "// then passes the result of the previous step as the input to the next step.\n",
              "function _uploadFilesContinue(outputId) {\n",
              "  const outputElement = document.getElementById(outputId);\n",
              "  const steps = outputElement.steps;\n",
              "\n",
              "  const next = steps.next(outputElement.lastPromiseValue);\n",
              "  return Promise.resolve(next.value.promise).then((value) => {\n",
              "    // Cache the last promise value to make it available to the next\n",
              "    // step of the generator.\n",
              "    outputElement.lastPromiseValue = value;\n",
              "    return next.value.response;\n",
              "  });\n",
              "}\n",
              "\n",
              "/**\n",
              " * Generator function which is called between each async step of the upload\n",
              " * process.\n",
              " * @param {string} inputId Element ID of the input file picker element.\n",
              " * @param {string} outputId Element ID of the output display.\n",
              " * @return {!Iterable<!Object>} Iterable of next steps.\n",
              " */\n",
              "function* uploadFilesStep(inputId, outputId) {\n",
              "  const inputElement = document.getElementById(inputId);\n",
              "  inputElement.disabled = false;\n",
              "\n",
              "  const outputElement = document.getElementById(outputId);\n",
              "  outputElement.innerHTML = '';\n",
              "\n",
              "  const pickedPromise = new Promise((resolve) => {\n",
              "    inputElement.addEventListener('change', (e) => {\n",
              "      resolve(e.target.files);\n",
              "    });\n",
              "  });\n",
              "\n",
              "  const cancel = document.createElement('button');\n",
              "  inputElement.parentElement.appendChild(cancel);\n",
              "  cancel.textContent = 'Cancel upload';\n",
              "  const cancelPromise = new Promise((resolve) => {\n",
              "    cancel.onclick = () => {\n",
              "      resolve(null);\n",
              "    };\n",
              "  });\n",
              "\n",
              "  // Wait for the user to pick the files.\n",
              "  const files = yield {\n",
              "    promise: Promise.race([pickedPromise, cancelPromise]),\n",
              "    response: {\n",
              "      action: 'starting',\n",
              "    }\n",
              "  };\n",
              "\n",
              "  cancel.remove();\n",
              "\n",
              "  // Disable the input element since further picks are not allowed.\n",
              "  inputElement.disabled = true;\n",
              "\n",
              "  if (!files) {\n",
              "    return {\n",
              "      response: {\n",
              "        action: 'complete',\n",
              "      }\n",
              "    };\n",
              "  }\n",
              "\n",
              "  for (const file of files) {\n",
              "    const li = document.createElement('li');\n",
              "    li.append(span(file.name, {fontWeight: 'bold'}));\n",
              "    li.append(span(\n",
              "        `(${file.type || 'n/a'}) - ${file.size} bytes, ` +\n",
              "        `last modified: ${\n",
              "            file.lastModifiedDate ? file.lastModifiedDate.toLocaleDateString() :\n",
              "                                    'n/a'} - `));\n",
              "    const percent = span('0% done');\n",
              "    li.appendChild(percent);\n",
              "\n",
              "    outputElement.appendChild(li);\n",
              "\n",
              "    const fileDataPromise = new Promise((resolve) => {\n",
              "      const reader = new FileReader();\n",
              "      reader.onload = (e) => {\n",
              "        resolve(e.target.result);\n",
              "      };\n",
              "      reader.readAsArrayBuffer(file);\n",
              "    });\n",
              "    // Wait for the data to be ready.\n",
              "    let fileData = yield {\n",
              "      promise: fileDataPromise,\n",
              "      response: {\n",
              "        action: 'continue',\n",
              "      }\n",
              "    };\n",
              "\n",
              "    // Use a chunked sending to avoid message size limits. See b/62115660.\n",
              "    let position = 0;\n",
              "    do {\n",
              "      const length = Math.min(fileData.byteLength - position, MAX_PAYLOAD_SIZE);\n",
              "      const chunk = new Uint8Array(fileData, position, length);\n",
              "      position += length;\n",
              "\n",
              "      const base64 = btoa(String.fromCharCode.apply(null, chunk));\n",
              "      yield {\n",
              "        response: {\n",
              "          action: 'append',\n",
              "          file: file.name,\n",
              "          data: base64,\n",
              "        },\n",
              "      };\n",
              "\n",
              "      let percentDone = fileData.byteLength === 0 ?\n",
              "          100 :\n",
              "          Math.round((position / fileData.byteLength) * 100);\n",
              "      percent.textContent = `${percentDone}% done`;\n",
              "\n",
              "    } while (position < fileData.byteLength);\n",
              "  }\n",
              "\n",
              "  // All done.\n",
              "  yield {\n",
              "    response: {\n",
              "      action: 'complete',\n",
              "    }\n",
              "  };\n",
              "}\n",
              "\n",
              "scope.google = scope.google || {};\n",
              "scope.google.colab = scope.google.colab || {};\n",
              "scope.google.colab._files = {\n",
              "  _uploadFiles,\n",
              "  _uploadFilesContinue,\n",
              "};\n",
              "})(self);\n",
              "</script> "
            ]
          },
          "metadata": {}
        },
        {
          "output_type": "stream",
          "name": "stdout",
          "text": [
            "Saving xgboost-data.csv to xgboost-data.csv\n"
          ]
        }
      ]
    },
    {
      "cell_type": "code",
      "source": [
        "# Load dataset (Upload or use Google Drive)\n",
        "df = pd.read_csv(\"xgboost-data.csv\")  # Replace with actual dataset\n",
        "\n",
        "# Drop columns that contain 'N/A' (NaN) in any row\n",
        "df.dropna(axis=1, how='any', inplace=True)\n",
        "\n",
        "# Drop ID column\n",
        "df.drop(columns=[\"id_\"], inplace=True, errors='ignore')\n",
        "\n",
        "# Convert \"DEN\" from \"Yes\"/\"No\" to 1/0\n",
        "if \"DEN\" in df.columns:\n",
        "    df[\"DEN\"] = df[\"DEN\"].map({\"YES\": 1, \"No\": 0})\n",
        "\n",
        "# Convert \"size\" from \"0-499 sqft\" format to separate min and max columns\n",
        "def extract_size_range(size_str):\n",
        "    if isinstance(size_str, str) and \"-\" in size_str:\n",
        "        size_range = size_str.split(\" sqft\")[0].split(\"-\")  # Remove \"sqft\" and split range\n",
        "        return int(size_range[0]), int(size_range[1])\n",
        "    return np.nan, np.nan  # Handle unexpected formats\n",
        "\n",
        "if \"size\" in df.columns:\n",
        "    df[\"size_min\"], df[\"size_max\"] = zip(*df[\"size\"].apply(extract_size_range))\n",
        "    df.drop(columns=[\"size\"], inplace=True)  # Drop original 'size' column\n",
        "\n",
        "# Drop rows where size couldn't be converted (if any)\n",
        "df.dropna(subset=[\"size_min\", \"size_max\"], inplace=True)\n",
        "\n",
        "# One-hot encode categorical features (exposure & ward)\n",
        "if \"exposure\" in df.columns:\n",
        "    df = pd.get_dummies(df, columns=[\"exposure\"])\n",
        "if \"ward\" in df.columns:\n",
        "    df = pd.get_dummies(df, columns=[\"ward\"])\n",
        "if \"parking\" in df.columns:\n",
        "    df = pd.get_dummies(df, columns=[\"parking\"])\n",
        "\n",
        "# Define features and target\n",
        "X = df.drop(columns=[\"price\"]).values  # Features\n",
        "y = df[\"price\"].values  # Target\n",
        "# Train-test split\n",
        "X_train, X_test, y_train, y_test = train_test_split(X, y, test_size=0.2, random_state=42)\n",
        "\n",
        "# Handle Missing Values in X_train and X_test\n",
        "imputer = SimpleImputer(strategy=\"median\")  # Use median for robustness\n",
        "X_train = imputer.fit_transform(X_train)\n",
        "X_test = imputer.transform(X_test)\n",
        "\n",
        "# Scale numerical features\n",
        "scaler = StandardScaler()\n",
        "X_train = scaler.fit_transform(X_train)\n",
        "X_test = scaler.transform(X_test)\n"
      ],
      "metadata": {
        "id": "uJU9q4A4nQbu"
      },
      "execution_count": 12,
      "outputs": []
    },
    {
      "cell_type": "code",
      "source": [
        "from xgboost import XGBRegressor\n",
        "# Train XGBoost model\n",
        "model = XGBRegressor(\n",
        "    n_estimators=500,  # Number of trees (increase if needed)\n",
        "    learning_rate=0.05,  # Step size (reduce if unstable)\n",
        "    max_depth=3,  # Depth of each tree (increase if underfitting)\n",
        "    subsample=0.8,  # Use 80% of data per tree (reduces overfitting)\n",
        "    colsample_bytree=0.8,  # Use 80% of features per tree\n",
        "    random_state=42\n",
        ")\n",
        "model.fit(X_train, y_train)\n",
        "\n",
        "# Predict on training data\n",
        "y_pred = model.predict(X_train)\n",
        "\n",
        "# Calculate MAE\n",
        "mae = mean_absolute_error(y_train, y_pred)\n",
        "print(f\"XGBoost Training MAE: ${mae:,.2f}\")\n",
        "\n",
        "mape = np.mean(np.abs((y_train - y_pred) / y_train)) * 100\n",
        "print(f\"XGBoost Training MAPE: {mape:.2f}%\")\n",
        "\n",
        "# Predict on test data\n",
        "y_pred = model.predict(X_test)\n",
        "\n",
        "# Calculate MAE\n",
        "mae = mean_absolute_error(y_test, y_pred)\n",
        "print(f\"XGBoost Test MAE: ${mae:,.2f}\")\n",
        "\n",
        "mape = np.mean(np.abs((y_test - y_pred) / y_test)) * 100\n",
        "print(f\"XGBoost Test MAPE: {mape:.2f}%\")\n",
        "\n",
        "feature_names = [col for col in df.columns if col != \"price\"]\n",
        "model.get_booster().feature_names = feature_names\n",
        "\n",
        "xgb.to_graphviz(model, num_trees=1)"
      ],
      "metadata": {
        "colab": {
          "base_uri": "https://localhost:8080/",
          "height": 520
        },
        "id": "7wLT8i8bLJC0",
        "outputId": "e01da8f5-4612-425a-bab3-8f93d7fd5fc9"
      },
      "execution_count": 23,
      "outputs": [
        {
          "output_type": "stream",
          "name": "stdout",
          "text": [
            "XGBoost Training MAE: $85,082.65\n",
            "XGBoost Training MAPE: 10.35%\n",
            "XGBoost Test MAE: $107,633.34\n",
            "XGBoost Test MAPE: 11.59%\n"
          ]
        },
        {
          "output_type": "execute_result",
          "data": {
            "image/svg+xml": "<?xml version=\"1.0\" encoding=\"UTF-8\" standalone=\"no\"?>\n<!DOCTYPE svg PUBLIC \"-//W3C//DTD SVG 1.1//EN\"\n \"http://www.w3.org/Graphics/SVG/1.1/DTD/svg11.dtd\">\n<!-- Generated by graphviz version 2.43.0 (0)\n -->\n<!-- Title: %3 Pages: 1 -->\n<svg width=\"1294pt\" height=\"305pt\"\n viewBox=\"0.00 0.00 1293.59 305.00\" xmlns=\"http://www.w3.org/2000/svg\" xmlns:xlink=\"http://www.w3.org/1999/xlink\">\n<g id=\"graph0\" class=\"graph\" transform=\"scale(1 1) rotate(0) translate(4 301)\">\n<title>%3</title>\n<polygon fill=\"white\" stroke=\"transparent\" points=\"-4,4 -4,-301 1289.59,-301 1289.59,4 -4,4\"/>\n<!-- 0 -->\n<g id=\"node1\" class=\"node\">\n<title>0</title>\n<ellipse fill=\"none\" stroke=\"black\" cx=\"614.09\" cy=\"-279\" rx=\"83.39\" ry=\"18\"/>\n<text text-anchor=\"middle\" x=\"614.09\" y=\"-275.3\" font-family=\"Times,serif\" font-size=\"14.00\">maint&lt;0.898484468</text>\n</g>\n<!-- 1 -->\n<g id=\"node2\" class=\"node\">\n<title>1</title>\n<ellipse fill=\"none\" stroke=\"black\" cx=\"466.09\" cy=\"-192\" rx=\"85.59\" ry=\"18\"/>\n<text text-anchor=\"middle\" x=\"466.09\" y=\"-188.3\" font-family=\"Times,serif\" font-size=\"14.00\">maint&lt;&#45;0.210242614</text>\n</g>\n<!-- 0&#45;&gt;1 -->\n<g id=\"edge1\" class=\"edge\">\n<title>0&#45;&gt;1</title>\n<path fill=\"none\" stroke=\"#ff0000\" d=\"M586.26,-262.01C562.66,-248.46 528.64,-228.92 502.82,-214.09\"/>\n<polygon fill=\"#ff0000\" stroke=\"#ff0000\" points=\"504.47,-211.01 494.06,-209.06 500.99,-217.08 504.47,-211.01\"/>\n<text text-anchor=\"middle\" x=\"558.59\" y=\"-231.8\" font-family=\"Times,serif\" font-size=\"14.00\">yes</text>\n</g>\n<!-- 2 -->\n<g id=\"node3\" class=\"node\">\n<title>2</title>\n<ellipse fill=\"none\" stroke=\"black\" cx=\"798.09\" cy=\"-192\" rx=\"90.18\" ry=\"18\"/>\n<text text-anchor=\"middle\" x=\"798.09\" y=\"-188.3\" font-family=\"Times,serif\" font-size=\"14.00\">size_min&lt;1.42086351</text>\n</g>\n<!-- 0&#45;&gt;2 -->\n<g id=\"edge2\" class=\"edge\">\n<title>0&#45;&gt;2</title>\n<path fill=\"none\" stroke=\"#0000ff\" d=\"M647.84,-262.41C677.87,-248.54 721.96,-228.17 754.62,-213.08\"/>\n<polygon fill=\"#0000ff\" stroke=\"#0000ff\" points=\"756.33,-216.15 763.94,-208.78 753.39,-209.8 756.33,-216.15\"/>\n<text text-anchor=\"middle\" x=\"750.09\" y=\"-231.8\" font-family=\"Times,serif\" font-size=\"14.00\">no, missing</text>\n</g>\n<!-- 3 -->\n<g id=\"node4\" class=\"node\">\n<title>3</title>\n<ellipse fill=\"none\" stroke=\"black\" cx=\"240.09\" cy=\"-105\" rx=\"81.49\" ry=\"18\"/>\n<text text-anchor=\"middle\" x=\"240.09\" y=\"-101.3\" font-family=\"Times,serif\" font-size=\"14.00\">maint&lt;&#45;0.57423979</text>\n</g>\n<!-- 1&#45;&gt;3 -->\n<g id=\"edge3\" class=\"edge\">\n<title>1&#45;&gt;3</title>\n<path fill=\"none\" stroke=\"#ff0000\" d=\"M426.21,-176C387.97,-161.62 330.14,-139.87 289.11,-124.43\"/>\n<polygon fill=\"#ff0000\" stroke=\"#ff0000\" points=\"290.17,-121.1 279.58,-120.85 287.71,-127.65 290.17,-121.1\"/>\n<text text-anchor=\"middle\" x=\"376.59\" y=\"-144.8\" font-family=\"Times,serif\" font-size=\"14.00\">yes</text>\n</g>\n<!-- 4 -->\n<g id=\"node5\" class=\"node\">\n<title>4</title>\n<ellipse fill=\"none\" stroke=\"black\" cx=\"466.09\" cy=\"-105\" rx=\"94.78\" ry=\"18\"/>\n<text text-anchor=\"middle\" x=\"466.09\" y=\"-101.3\" font-family=\"Times,serif\" font-size=\"14.00\">size_min&lt;0.627149761</text>\n</g>\n<!-- 1&#45;&gt;4 -->\n<g id=\"edge4\" class=\"edge\">\n<title>1&#45;&gt;4</title>\n<path fill=\"none\" stroke=\"#0000ff\" d=\"M466.09,-173.8C466.09,-162.16 466.09,-146.55 466.09,-133.24\"/>\n<polygon fill=\"#0000ff\" stroke=\"#0000ff\" points=\"469.59,-133.18 466.09,-123.18 462.59,-133.18 469.59,-133.18\"/>\n<text text-anchor=\"middle\" x=\"498.09\" y=\"-144.8\" font-family=\"Times,serif\" font-size=\"14.00\">no, missing</text>\n</g>\n<!-- 5 -->\n<g id=\"node10\" class=\"node\">\n<title>5</title>\n<ellipse fill=\"none\" stroke=\"black\" cx=\"798.09\" cy=\"-105\" rx=\"78.79\" ry=\"18\"/>\n<text text-anchor=\"middle\" x=\"798.09\" y=\"-101.3\" font-family=\"Times,serif\" font-size=\"14.00\">beds&lt;0.789834499</text>\n</g>\n<!-- 2&#45;&gt;5 -->\n<g id=\"edge9\" class=\"edge\">\n<title>2&#45;&gt;5</title>\n<path fill=\"none\" stroke=\"#ff0000\" d=\"M798.09,-173.8C798.09,-162.16 798.09,-146.55 798.09,-133.24\"/>\n<polygon fill=\"#ff0000\" stroke=\"#ff0000\" points=\"801.59,-133.18 798.09,-123.18 794.59,-133.18 801.59,-133.18\"/>\n<text text-anchor=\"middle\" x=\"807.59\" y=\"-144.8\" font-family=\"Times,serif\" font-size=\"14.00\">yes</text>\n</g>\n<!-- 6 -->\n<g id=\"node11\" class=\"node\">\n<title>6</title>\n<ellipse fill=\"none\" stroke=\"black\" cx=\"1053.09\" cy=\"-105\" rx=\"90.18\" ry=\"18\"/>\n<text text-anchor=\"middle\" x=\"1053.09\" y=\"-101.3\" font-family=\"Times,serif\" font-size=\"14.00\">size_min&lt;3.00829101</text>\n</g>\n<!-- 2&#45;&gt;6 -->\n<g id=\"edge10\" class=\"edge\">\n<title>2&#45;&gt;6</title>\n<path fill=\"none\" stroke=\"#0000ff\" d=\"M842.22,-176.29C885.74,-161.79 952.33,-139.59 999.01,-124.03\"/>\n<polygon fill=\"#0000ff\" stroke=\"#0000ff\" points=\"1000.27,-127.3 1008.65,-120.81 998.06,-120.66 1000.27,-127.3\"/>\n<text text-anchor=\"middle\" x=\"973.09\" y=\"-144.8\" font-family=\"Times,serif\" font-size=\"14.00\">no, missing</text>\n</g>\n<!-- 7 -->\n<g id=\"node6\" class=\"node\">\n<title>7</title>\n<ellipse fill=\"none\" stroke=\"black\" cx=\"74.09\" cy=\"-18\" rx=\"74.19\" ry=\"18\"/>\n<text text-anchor=\"middle\" x=\"74.09\" y=\"-14.3\" font-family=\"Times,serif\" font-size=\"14.00\">leaf=&#45;17875.0508</text>\n</g>\n<!-- 3&#45;&gt;7 -->\n<g id=\"edge5\" class=\"edge\">\n<title>3&#45;&gt;7</title>\n<path fill=\"none\" stroke=\"#ff0000\" d=\"M209.26,-88.21C182.27,-74.39 142.91,-54.24 113.61,-39.23\"/>\n<polygon fill=\"#ff0000\" stroke=\"#ff0000\" points=\"114.98,-36 104.48,-34.56 111.79,-42.23 114.98,-36\"/>\n<text text-anchor=\"middle\" x=\"176.59\" y=\"-57.8\" font-family=\"Times,serif\" font-size=\"14.00\">yes</text>\n</g>\n<!-- 8 -->\n<g id=\"node7\" class=\"node\">\n<title>8</title>\n<ellipse fill=\"none\" stroke=\"black\" cx=\"240.09\" cy=\"-18\" rx=\"74.19\" ry=\"18\"/>\n<text text-anchor=\"middle\" x=\"240.09\" y=\"-14.3\" font-family=\"Times,serif\" font-size=\"14.00\">leaf=&#45;9759.98242</text>\n</g>\n<!-- 3&#45;&gt;8 -->\n<g id=\"edge6\" class=\"edge\">\n<title>3&#45;&gt;8</title>\n<path fill=\"none\" stroke=\"#0000ff\" d=\"M240.09,-86.8C240.09,-75.16 240.09,-59.55 240.09,-46.24\"/>\n<polygon fill=\"#0000ff\" stroke=\"#0000ff\" points=\"243.59,-46.18 240.09,-36.18 236.59,-46.18 243.59,-46.18\"/>\n<text text-anchor=\"middle\" x=\"272.09\" y=\"-57.8\" font-family=\"Times,serif\" font-size=\"14.00\">no, missing</text>\n</g>\n<!-- 9 -->\n<g id=\"node8\" class=\"node\">\n<title>9</title>\n<ellipse fill=\"none\" stroke=\"black\" cx=\"406.09\" cy=\"-18\" rx=\"74.19\" ry=\"18\"/>\n<text text-anchor=\"middle\" x=\"406.09\" y=\"-14.3\" font-family=\"Times,serif\" font-size=\"14.00\">leaf=&#45;1422.76575</text>\n</g>\n<!-- 4&#45;&gt;9 -->\n<g id=\"edge7\" class=\"edge\">\n<title>4&#45;&gt;9</title>\n<path fill=\"none\" stroke=\"#ff0000\" d=\"M453.95,-86.8C445.36,-74.62 433.69,-58.09 424.02,-44.4\"/>\n<polygon fill=\"#ff0000\" stroke=\"#ff0000\" points=\"426.64,-42.04 418.01,-35.89 420.92,-46.07 426.64,-42.04\"/>\n<text text-anchor=\"middle\" x=\"449.59\" y=\"-57.8\" font-family=\"Times,serif\" font-size=\"14.00\">yes</text>\n</g>\n<!-- 10 -->\n<g id=\"node9\" class=\"node\">\n<title>10</title>\n<ellipse fill=\"none\" stroke=\"black\" cx=\"570.09\" cy=\"-18\" rx=\"71.49\" ry=\"18\"/>\n<text text-anchor=\"middle\" x=\"570.09\" y=\"-14.3\" font-family=\"Times,serif\" font-size=\"14.00\">leaf=13999.9326</text>\n</g>\n<!-- 4&#45;&gt;10 -->\n<g id=\"edge8\" class=\"edge\">\n<title>4&#45;&gt;10</title>\n<path fill=\"none\" stroke=\"#0000ff\" d=\"M486.64,-87.21C502.41,-74.32 524.36,-56.38 541.8,-42.13\"/>\n<polygon fill=\"#0000ff\" stroke=\"#0000ff\" points=\"544.41,-44.51 549.94,-35.47 539.99,-39.09 544.41,-44.51\"/>\n<text text-anchor=\"middle\" x=\"557.09\" y=\"-57.8\" font-family=\"Times,serif\" font-size=\"14.00\">no, missing</text>\n</g>\n<!-- 11 -->\n<g id=\"node12\" class=\"node\">\n<title>11</title>\n<ellipse fill=\"none\" stroke=\"black\" cx=\"731.09\" cy=\"-18\" rx=\"71.49\" ry=\"18\"/>\n<text text-anchor=\"middle\" x=\"731.09\" y=\"-14.3\" font-family=\"Times,serif\" font-size=\"14.00\">leaf=7680.37744</text>\n</g>\n<!-- 5&#45;&gt;11 -->\n<g id=\"edge11\" class=\"edge\">\n<title>5&#45;&gt;11</title>\n<path fill=\"none\" stroke=\"#ff0000\" d=\"M784.86,-87.21C775.13,-74.87 761.75,-57.89 750.77,-43.97\"/>\n<polygon fill=\"#ff0000\" stroke=\"#ff0000\" points=\"753.24,-41.45 744.3,-35.76 747.74,-45.78 753.24,-41.45\"/>\n<text text-anchor=\"middle\" x=\"778.59\" y=\"-57.8\" font-family=\"Times,serif\" font-size=\"14.00\">yes</text>\n</g>\n<!-- 12 -->\n<g id=\"node13\" class=\"node\">\n<title>12</title>\n<ellipse fill=\"none\" stroke=\"black\" cx=\"892.09\" cy=\"-18\" rx=\"71.49\" ry=\"18\"/>\n<text text-anchor=\"middle\" x=\"892.09\" y=\"-14.3\" font-family=\"Times,serif\" font-size=\"14.00\">leaf=27440.6191</text>\n</g>\n<!-- 5&#45;&gt;12 -->\n<g id=\"edge12\" class=\"edge\">\n<title>5&#45;&gt;12</title>\n<path fill=\"none\" stroke=\"#0000ff\" d=\"M816.66,-87.21C830.79,-74.43 850.4,-56.7 866.09,-42.52\"/>\n<polygon fill=\"#0000ff\" stroke=\"#0000ff\" points=\"868.81,-44.77 873.88,-35.47 864.12,-39.58 868.81,-44.77\"/>\n<text text-anchor=\"middle\" x=\"883.09\" y=\"-57.8\" font-family=\"Times,serif\" font-size=\"14.00\">no, missing</text>\n</g>\n<!-- 13 -->\n<g id=\"node14\" class=\"node\">\n<title>13</title>\n<ellipse fill=\"none\" stroke=\"black\" cx=\"1053.09\" cy=\"-18\" rx=\"71.49\" ry=\"18\"/>\n<text text-anchor=\"middle\" x=\"1053.09\" y=\"-14.3\" font-family=\"Times,serif\" font-size=\"14.00\">leaf=56184.3633</text>\n</g>\n<!-- 6&#45;&gt;13 -->\n<g id=\"edge13\" class=\"edge\">\n<title>6&#45;&gt;13</title>\n<path fill=\"none\" stroke=\"#ff0000\" d=\"M1053.09,-86.8C1053.09,-75.16 1053.09,-59.55 1053.09,-46.24\"/>\n<polygon fill=\"#ff0000\" stroke=\"#ff0000\" points=\"1056.59,-46.18 1053.09,-36.18 1049.59,-46.18 1056.59,-46.18\"/>\n<text text-anchor=\"middle\" x=\"1062.59\" y=\"-57.8\" font-family=\"Times,serif\" font-size=\"14.00\">yes</text>\n</g>\n<!-- 14 -->\n<g id=\"node15\" class=\"node\">\n<title>14</title>\n<ellipse fill=\"none\" stroke=\"black\" cx=\"1214.09\" cy=\"-18\" rx=\"71.49\" ry=\"18\"/>\n<text text-anchor=\"middle\" x=\"1214.09\" y=\"-14.3\" font-family=\"Times,serif\" font-size=\"14.00\">leaf=92439.4297</text>\n</g>\n<!-- 6&#45;&gt;14 -->\n<g id=\"edge14\" class=\"edge\">\n<title>6&#45;&gt;14</title>\n<path fill=\"none\" stroke=\"#0000ff\" d=\"M1083.38,-88.01C1109.48,-74.23 1147.32,-54.25 1175.58,-39.33\"/>\n<polygon fill=\"#0000ff\" stroke=\"#0000ff\" points=\"1177.55,-42.25 1184.76,-34.49 1174.28,-36.06 1177.55,-42.25\"/>\n<text text-anchor=\"middle\" x=\"1176.09\" y=\"-57.8\" font-family=\"Times,serif\" font-size=\"14.00\">no, missing</text>\n</g>\n</g>\n</svg>\n",
            "text/plain": [
              "<graphviz.sources.Source at 0x7f6576276a90>"
            ]
          },
          "metadata": {},
          "execution_count": 23
        }
      ]
    }
  ]
}